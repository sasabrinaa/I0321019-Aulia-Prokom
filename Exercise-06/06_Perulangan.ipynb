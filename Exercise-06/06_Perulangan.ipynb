{
 "cells": [
  {
   "cell_type": "markdown",
   "metadata": {},
   "source": [
    "***\n",
    "<h1 align=\"center\">Exercise 06</h1>\n",
    " \n",
    "***\n",
    "## While Loop\n",
    "## Exercise 6.1\n",
    "isilah bagian rumpang berikut. xx diganti tanggal lahir dan yy diganti menjadi bulan lahir. tandanya menyesuaikan yang lebih besar."
   ]
  },
  {
   "cell_type": "code",
   "execution_count": 1,
   "metadata": {},
   "outputs": [
    {
     "name": "stdout",
     "output_type": "stream",
     "text": [
      "Semangat Aja\n",
      "Semangat Aja\n",
      "Semangat Aja\n",
      "Semangat Aja\n",
      "Semangat Aja\n",
      "Semangat Aja\n",
      "Semangat Aja\n",
      "Semangat Aja\n",
      "Semangat Aja\n",
      "Semangat Aja\n",
      "Semangat Aja\n",
      "Semangat Aja\n",
      "Semangat Aja\n",
      "Semangat Aja\n",
      "Semangat Aja\n",
      "Semangat Aja\n",
      "Semangat Aja\n",
      "Semangat Aja\n",
      "Semangat Aja\n",
      "Semangat Aja\n",
      "Semangat Aja\n"
     ]
    }
   ],
   "source": [
    "#menentukan banyak pengulangan\n",
    "n = 28\n",
    "\n",
    "#melakukan pengulangan\n",
    "i = 8\n",
    "\n",
    "while i <= n :\n",
    "    print (\"Semangat Aja\")\n",
    "    #diisi motto kalian\n",
    "    i = i + 1 # sesuaikan dengan atas agar fungsi perulangan dapat berhenti\n"
   ]
  },
  {
   "cell_type": "markdown",
   "metadata": {},
   "source": [
    "## Exercise 6.2\n",
    "\n",
    "Buatlah code seperti yang dicontohkan pada modul agar user dapat menginputkan sendiri jumlah n yang diinginkan"
   ]
  },
  {
   "cell_type": "code",
   "execution_count": 6,
   "metadata": {},
   "outputs": [],
   "source": [
    "#Kerjakan disini\n",
    "n = int(input(\"input nilai n:\"))\n",
    "i = 5\n",
    "while i<=n:\n",
    "    print(i)\n",
    "    i=i+1"
   ]
  },
  {
   "cell_type": "markdown",
   "metadata": {},
   "source": [
    "## Excercise 6.3\n",
    "\n",
    "isilah xx, yy, dan tanda rumpang seperti pada exercise 6.1\n"
   ]
  },
  {
   "cell_type": "code",
   "execution_count": 7,
   "metadata": {},
   "outputs": [],
   "source": [
    "#melakukan pengulangan\n",
    "i = 28\n",
    "\n",
    "while i <= 8 :\n",
    "    print (\"Baris ke-%d : Doraemon\"%i)\n",
    "    #isi titik-titik dengan judul film favorit kalian\n",
    "    i = i + 1 "
   ]
  },
  {
   "cell_type": "markdown",
   "metadata": {},
   "source": [
    "## FOR LOOP\n",
    "\n",
    "## Exercise 6.4\n",
    "\n",
    "munculkan 3 dari 7 elemen yang berada di dalam list1 dan list2\n"
   ]
  },
  {
   "cell_type": "code",
   "execution_count": 14,
   "metadata": {},
   "outputs": [
    {
     "name": "stdout",
     "output_type": "stream",
     "text": [
      "1 bakso bali\n",
      "2 ayam geprek manado\n",
      "3 indomie lombok\n"
     ]
    }
   ],
   "source": [
    "list1 = [\"bakso\",\"ayam geprek\",\"indomie\",\"mie ayam\",\"sate\",\"magelangan\",\"burger\"] #masukkan 7 list makanan favorit kalian\n",
    "list2 = [\"bali\",\"manado\",\"lombok\",\"surabaya\",\"bandung\",\"jakarta\",\"solo\"] #masukkan 7 list kota favorit kalian\n",
    "\n",
    "for i in range(0,3) :\n",
    "    print(i+1,list1[i] ,list2[i])"
   ]
  },
  {
   "cell_type": "markdown",
   "metadata": {},
   "source": [
    "## Perulangan Bersarang\n",
    "\n",
    "## Exercise 6.5"
   ]
  },
  {
   "cell_type": "code",
   "execution_count": 26,
   "metadata": {},
   "outputs": [
    {
     "name": "stdout",
     "output_type": "stream",
     "text": [
      "224 252 280 308 336 364 392 420 448 476 504 532 560 588 616 644 672 700 728 756 784 \n",
      "216 243 270 297 324 351 378 405 432 459 486 513 540 567 594 621 648 675 702 729 \n",
      "208 234 260 286 312 338 364 390 416 442 468 494 520 546 572 598 624 650 676 \n",
      "200 225 250 275 300 325 350 375 400 425 450 475 500 525 550 575 600 625 \n",
      "192 216 240 264 288 312 336 360 384 408 432 456 480 504 528 552 576 \n",
      "184 207 230 253 276 299 322 345 368 391 414 437 460 483 506 529 \n",
      "176 198 220 242 264 286 308 330 352 374 396 418 440 462 484 \n",
      "168 189 210 231 252 273 294 315 336 357 378 399 420 441 \n",
      "160 180 200 220 240 260 280 300 320 340 360 380 400 \n",
      "152 171 190 209 228 247 266 285 304 323 342 361 \n",
      "144 162 180 198 216 234 252 270 288 306 324 \n",
      "136 153 170 187 204 221 238 255 272 289 \n",
      "128 144 160 176 192 208 224 240 256 \n",
      "120 135 150 165 180 195 210 225 \n",
      "112 126 140 154 168 182 196 \n",
      "104 117 130 143 156 169 \n",
      "96 108 120 132 144 \n",
      "88 99 110 121 \n",
      "80 90 100 \n",
      "72 81 \n",
      "64 \n"
     ]
    }
   ],
   "source": [
    "i = 28\n",
    "while i >=8:\n",
    "    j = 8\n",
    "    while j<=i:\n",
    "        print(\"%d \" % (i*j), end = '')\n",
    "        j = j + 1\n",
    "    print()\n",
    "    i-=1"
   ]
  },
  {
   "cell_type": "markdown",
   "metadata": {},
   "source": [
    "## Pernyataan Loncat\n",
    "\n",
    "## Exercise 6.\n",
    "\n",
    "Buatlah fungsi berikut agar muncul angka hingga berhenti sesuai dengan nilai qq\n",
    "qq = angka favorit kalian\n",
    "pp>qq"
   ]
  },
  {
   "cell_type": "code",
   "execution_count": 29,
   "metadata": {},
   "outputs": [
    {
     "name": "stdout",
     "output_type": "stream",
     "text": [
      "0123"
     ]
    }
   ],
   "source": [
    "for i in range(28):\n",
    "    print(i,end='')\n",
    "    if i == 3:\n",
    "        break"
   ]
  },
  {
   "cell_type": "markdown",
   "metadata": {},
   "source": [
    "***\n",
    "<h1 align=\"center\">WELL DONE</h1>\n",
    " \n",
    "***"
   ]
  }
 ],
 "metadata": {
  "interpreter": {
   "hash": "cd08f94adcf3cbae37fe85286256f4c2a10455ca9094fd053e9f3d3f09647223"
  },
  "kernelspec": {
   "display_name": "Python 3.9.7 64-bit",
   "language": "python",
   "name": "python3"
  },
  "language_info": {
   "codemirror_mode": {
    "name": "ipython",
    "version": 3
   },
   "file_extension": ".py",
   "mimetype": "text/x-python",
   "name": "python",
   "nbconvert_exporter": "python",
   "pygments_lexer": "ipython3",
   "version": "3.9.7"
  },
  "orig_nbformat": 4
 },
 "nbformat": 4,
 "nbformat_minor": 2
}
